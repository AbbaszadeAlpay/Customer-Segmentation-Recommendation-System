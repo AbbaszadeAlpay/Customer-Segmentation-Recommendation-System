{
 "cells": [
  {
   "cell_type": "code",
   "execution_count": 1,
   "id": "3f1acc80",
   "metadata": {
    "_cell_guid": "b1076dfc-b9ad-4769-8c92-a6c4dae69d19",
    "_uuid": "8f2839f25d086af736a60e9eeb907d3b93b6e0e5",
    "execution": {
     "iopub.execute_input": "2022-08-04T16:49:59.234868Z",
     "iopub.status.busy": "2022-08-04T16:49:59.234294Z",
     "iopub.status.idle": "2022-08-04T16:50:01.080492Z",
     "shell.execute_reply": "2022-08-04T16:50:01.079084Z"
    },
    "papermill": {
     "duration": 1.859509,
     "end_time": "2022-08-04T16:50:01.083831",
     "exception": false,
     "start_time": "2022-08-04T16:49:59.224322",
     "status": "completed"
    },
    "tags": []
   },
   "outputs": [],
   "source": [
    "import pandas as pd\n",
    "import numpy as np\n",
    "import matplotlib.pyplot as plt\n",
    "import seaborn as sns\n",
    "from sklearn.cluster import KMeans\n",
    "from sklearn.preprocessing import StandardScaler "
   ]
  },
  {
   "cell_type": "code",
   "execution_count": 2,
   "id": "bdecb531",
   "metadata": {
    "execution": {
     "iopub.execute_input": "2022-08-04T16:50:01.099881Z",
     "iopub.status.busy": "2022-08-04T16:50:01.099166Z",
     "iopub.status.idle": "2022-08-04T16:50:03.664189Z",
     "shell.execute_reply": "2022-08-04T16:50:03.662890Z"
    },
    "papermill": {
     "duration": 2.576386,
     "end_time": "2022-08-04T16:50:03.667009",
     "exception": false,
     "start_time": "2022-08-04T16:50:01.090623",
     "status": "completed"
    },
    "tags": []
   },
   "outputs": [
    {
     "data": {
      "text/html": [
       "<div>\n",
       "<style scoped>\n",
       "    .dataframe tbody tr th:only-of-type {\n",
       "        vertical-align: middle;\n",
       "    }\n",
       "\n",
       "    .dataframe tbody tr th {\n",
       "        vertical-align: top;\n",
       "    }\n",
       "\n",
       "    .dataframe thead th {\n",
       "        text-align: right;\n",
       "    }\n",
       "</style>\n",
       "<table border=\"1\" class=\"dataframe\">\n",
       "  <thead>\n",
       "    <tr style=\"text-align: right;\">\n",
       "      <th></th>\n",
       "      <th>Invoice</th>\n",
       "      <th>StockCode</th>\n",
       "      <th>Description</th>\n",
       "      <th>Quantity</th>\n",
       "      <th>InvoiceDate</th>\n",
       "      <th>Price</th>\n",
       "      <th>Customer ID</th>\n",
       "      <th>Country</th>\n",
       "    </tr>\n",
       "  </thead>\n",
       "  <tbody>\n",
       "    <tr>\n",
       "      <th>0</th>\n",
       "      <td>489434</td>\n",
       "      <td>85048</td>\n",
       "      <td>15CM CHRISTMAS GLASS BALL 20 LIGHTS</td>\n",
       "      <td>12</td>\n",
       "      <td>2009-12-01 07:45:00</td>\n",
       "      <td>6.95</td>\n",
       "      <td>13085.0</td>\n",
       "      <td>United Kingdom</td>\n",
       "    </tr>\n",
       "    <tr>\n",
       "      <th>1</th>\n",
       "      <td>489434</td>\n",
       "      <td>79323P</td>\n",
       "      <td>PINK CHERRY LIGHTS</td>\n",
       "      <td>12</td>\n",
       "      <td>2009-12-01 07:45:00</td>\n",
       "      <td>6.75</td>\n",
       "      <td>13085.0</td>\n",
       "      <td>United Kingdom</td>\n",
       "    </tr>\n",
       "    <tr>\n",
       "      <th>2</th>\n",
       "      <td>489434</td>\n",
       "      <td>79323W</td>\n",
       "      <td>WHITE CHERRY LIGHTS</td>\n",
       "      <td>12</td>\n",
       "      <td>2009-12-01 07:45:00</td>\n",
       "      <td>6.75</td>\n",
       "      <td>13085.0</td>\n",
       "      <td>United Kingdom</td>\n",
       "    </tr>\n",
       "    <tr>\n",
       "      <th>3</th>\n",
       "      <td>489434</td>\n",
       "      <td>22041</td>\n",
       "      <td>RECORD FRAME 7\" SINGLE SIZE</td>\n",
       "      <td>48</td>\n",
       "      <td>2009-12-01 07:45:00</td>\n",
       "      <td>2.10</td>\n",
       "      <td>13085.0</td>\n",
       "      <td>United Kingdom</td>\n",
       "    </tr>\n",
       "    <tr>\n",
       "      <th>4</th>\n",
       "      <td>489434</td>\n",
       "      <td>21232</td>\n",
       "      <td>STRAWBERRY CERAMIC TRINKET BOX</td>\n",
       "      <td>24</td>\n",
       "      <td>2009-12-01 07:45:00</td>\n",
       "      <td>1.25</td>\n",
       "      <td>13085.0</td>\n",
       "      <td>United Kingdom</td>\n",
       "    </tr>\n",
       "  </tbody>\n",
       "</table>\n",
       "</div>"
      ],
      "text/plain": [
       "  Invoice StockCode                          Description  Quantity  \\\n",
       "0  489434     85048  15CM CHRISTMAS GLASS BALL 20 LIGHTS        12   \n",
       "1  489434    79323P                   PINK CHERRY LIGHTS        12   \n",
       "2  489434    79323W                  WHITE CHERRY LIGHTS        12   \n",
       "3  489434     22041         RECORD FRAME 7\" SINGLE SIZE         48   \n",
       "4  489434     21232       STRAWBERRY CERAMIC TRINKET BOX        24   \n",
       "\n",
       "           InvoiceDate  Price  Customer ID         Country  \n",
       "0  2009-12-01 07:45:00   6.95      13085.0  United Kingdom  \n",
       "1  2009-12-01 07:45:00   6.75      13085.0  United Kingdom  \n",
       "2  2009-12-01 07:45:00   6.75      13085.0  United Kingdom  \n",
       "3  2009-12-01 07:45:00   2.10      13085.0  United Kingdom  \n",
       "4  2009-12-01 07:45:00   1.25      13085.0  United Kingdom  "
      ]
     },
     "execution_count": 2,
     "metadata": {},
     "output_type": "execute_result"
    }
   ],
   "source": [
    "df = pd.read_csv(\"../input/online-retail-ii-uci/online_retail_II.csv\")\n",
    "df.head()"
   ]
  },
  {
   "cell_type": "code",
   "execution_count": 3,
   "id": "91546a63",
   "metadata": {
    "execution": {
     "iopub.execute_input": "2022-08-04T16:50:03.682711Z",
     "iopub.status.busy": "2022-08-04T16:50:03.682176Z",
     "iopub.status.idle": "2022-08-04T16:50:03.940521Z",
     "shell.execute_reply": "2022-08-04T16:50:03.939228Z"
    },
    "papermill": {
     "duration": 0.271347,
     "end_time": "2022-08-04T16:50:03.945220",
     "exception": false,
     "start_time": "2022-08-04T16:50:03.673873",
     "status": "completed"
    },
    "tags": []
   },
   "outputs": [
    {
     "name": "stdout",
     "output_type": "stream",
     "text": [
      "<class 'pandas.core.frame.DataFrame'>\n",
      "RangeIndex: 1067371 entries, 0 to 1067370\n",
      "Data columns (total 8 columns):\n",
      " #   Column       Non-Null Count    Dtype  \n",
      "---  ------       --------------    -----  \n",
      " 0   Invoice      1067371 non-null  object \n",
      " 1   StockCode    1067371 non-null  object \n",
      " 2   Description  1062989 non-null  object \n",
      " 3   Quantity     1067371 non-null  int64  \n",
      " 4   InvoiceDate  1067371 non-null  object \n",
      " 5   Price        1067371 non-null  float64\n",
      " 6   Customer ID  824364 non-null   float64\n",
      " 7   Country      1067371 non-null  object \n",
      "dtypes: float64(2), int64(1), object(5)\n",
      "memory usage: 65.1+ MB\n"
     ]
    }
   ],
   "source": [
    "df.info()"
   ]
  },
  {
   "cell_type": "code",
   "execution_count": 4,
   "id": "25baa6e9",
   "metadata": {
    "execution": {
     "iopub.execute_input": "2022-08-04T16:50:03.961970Z",
     "iopub.status.busy": "2022-08-04T16:50:03.961473Z",
     "iopub.status.idle": "2022-08-04T16:50:04.444330Z",
     "shell.execute_reply": "2022-08-04T16:50:04.442391Z"
    },
    "papermill": {
     "duration": 0.494502,
     "end_time": "2022-08-04T16:50:04.447192",
     "exception": false,
     "start_time": "2022-08-04T16:50:03.952690",
     "status": "completed"
    },
    "tags": []
   },
   "outputs": [
    {
     "name": "stdout",
     "output_type": "stream",
     "text": [
      "<class 'pandas.core.frame.DataFrame'>\n",
      "RangeIndex: 1067371 entries, 0 to 1067370\n",
      "Data columns (total 8 columns):\n",
      " #   Column       Non-Null Count    Dtype         \n",
      "---  ------       --------------    -----         \n",
      " 0   Invoice      1067371 non-null  object        \n",
      " 1   StockCode    1067371 non-null  object        \n",
      " 2   Description  1062989 non-null  object        \n",
      " 3   Quantity     1067371 non-null  int64         \n",
      " 4   InvoiceDate  1067371 non-null  datetime64[ns]\n",
      " 5   Price        1067371 non-null  float64       \n",
      " 6   Customer ID  824364 non-null   float64       \n",
      " 7   Country      1067371 non-null  object        \n",
      "dtypes: datetime64[ns](1), float64(2), int64(1), object(4)\n",
      "memory usage: 65.1+ MB\n"
     ]
    }
   ],
   "source": [
    "\n",
    "df['InvoiceDate'] = pd.to_datetime(df['InvoiceDate'])\n",
    "df.info()"
   ]
  },
  {
   "cell_type": "code",
   "execution_count": 5,
   "id": "fbaa54e1",
   "metadata": {
    "execution": {
     "iopub.execute_input": "2022-08-04T16:50:04.464618Z",
     "iopub.status.busy": "2022-08-04T16:50:04.463930Z",
     "iopub.status.idle": "2022-08-04T16:50:04.661654Z",
     "shell.execute_reply": "2022-08-04T16:50:04.660392Z"
    },
    "papermill": {
     "duration": 0.210178,
     "end_time": "2022-08-04T16:50:04.664595",
     "exception": false,
     "start_time": "2022-08-04T16:50:04.454417",
     "status": "completed"
    },
    "tags": []
   },
   "outputs": [
    {
     "data": {
      "text/plain": [
       "Invoice             0\n",
       "StockCode           0\n",
       "Description      4382\n",
       "Quantity            0\n",
       "InvoiceDate         0\n",
       "Price               0\n",
       "Customer ID    243007\n",
       "Country             0\n",
       "dtype: int64"
      ]
     },
     "execution_count": 5,
     "metadata": {},
     "output_type": "execute_result"
    }
   ],
   "source": [
    "df.isna().sum()"
   ]
  },
  {
   "cell_type": "code",
   "execution_count": 6,
   "id": "1a0e455c",
   "metadata": {
    "execution": {
     "iopub.execute_input": "2022-08-04T16:50:04.681043Z",
     "iopub.status.busy": "2022-08-04T16:50:04.680116Z",
     "iopub.status.idle": "2022-08-04T16:50:05.153794Z",
     "shell.execute_reply": "2022-08-04T16:50:05.152507Z"
    },
    "papermill": {
     "duration": 0.484845,
     "end_time": "2022-08-04T16:50:05.156495",
     "exception": false,
     "start_time": "2022-08-04T16:50:04.671650",
     "status": "completed"
    },
    "tags": []
   },
   "outputs": [
    {
     "name": "stdout",
     "output_type": "stream",
     "text": [
      "Invoice        0\n",
      "StockCode      0\n",
      "Description    0\n",
      "Quantity       0\n",
      "InvoiceDate    0\n",
      "Price          0\n",
      "Customer ID    0\n",
      "Country        0\n",
      "dtype: int64\n",
      "(824364, 8)\n"
     ]
    }
   ],
   "source": [
    "df.dropna(inplace = True)\n",
    "print(df.isna().sum())\n",
    "print(df.shape)"
   ]
  },
  {
   "cell_type": "code",
   "execution_count": 7,
   "id": "15128c2d",
   "metadata": {
    "execution": {
     "iopub.execute_input": "2022-08-04T16:50:05.174284Z",
     "iopub.status.busy": "2022-08-04T16:50:05.173449Z",
     "iopub.status.idle": "2022-08-04T16:50:05.200291Z",
     "shell.execute_reply": "2022-08-04T16:50:05.199011Z"
    },
    "papermill": {
     "duration": 0.039023,
     "end_time": "2022-08-04T16:50:05.202853",
     "exception": false,
     "start_time": "2022-08-04T16:50:05.163830",
     "status": "completed"
    },
    "tags": []
   },
   "outputs": [
    {
     "data": {
      "text/html": [
       "<div>\n",
       "<style scoped>\n",
       "    .dataframe tbody tr th:only-of-type {\n",
       "        vertical-align: middle;\n",
       "    }\n",
       "\n",
       "    .dataframe tbody tr th {\n",
       "        vertical-align: top;\n",
       "    }\n",
       "\n",
       "    .dataframe thead th {\n",
       "        text-align: right;\n",
       "    }\n",
       "</style>\n",
       "<table border=\"1\" class=\"dataframe\">\n",
       "  <thead>\n",
       "    <tr style=\"text-align: right;\">\n",
       "      <th></th>\n",
       "      <th>Invoice</th>\n",
       "      <th>StockCode</th>\n",
       "      <th>Description</th>\n",
       "      <th>Quantity</th>\n",
       "      <th>InvoiceDate</th>\n",
       "      <th>Price</th>\n",
       "      <th>Customer ID</th>\n",
       "      <th>Country</th>\n",
       "      <th>Total_Price</th>\n",
       "    </tr>\n",
       "  </thead>\n",
       "  <tbody>\n",
       "    <tr>\n",
       "      <th>0</th>\n",
       "      <td>489434</td>\n",
       "      <td>85048</td>\n",
       "      <td>15CM CHRISTMAS GLASS BALL 20 LIGHTS</td>\n",
       "      <td>12</td>\n",
       "      <td>2009-12-01 07:45:00</td>\n",
       "      <td>6.95</td>\n",
       "      <td>13085.0</td>\n",
       "      <td>United Kingdom</td>\n",
       "      <td>83.4</td>\n",
       "    </tr>\n",
       "    <tr>\n",
       "      <th>1</th>\n",
       "      <td>489434</td>\n",
       "      <td>79323P</td>\n",
       "      <td>PINK CHERRY LIGHTS</td>\n",
       "      <td>12</td>\n",
       "      <td>2009-12-01 07:45:00</td>\n",
       "      <td>6.75</td>\n",
       "      <td>13085.0</td>\n",
       "      <td>United Kingdom</td>\n",
       "      <td>81.0</td>\n",
       "    </tr>\n",
       "    <tr>\n",
       "      <th>2</th>\n",
       "      <td>489434</td>\n",
       "      <td>79323W</td>\n",
       "      <td>WHITE CHERRY LIGHTS</td>\n",
       "      <td>12</td>\n",
       "      <td>2009-12-01 07:45:00</td>\n",
       "      <td>6.75</td>\n",
       "      <td>13085.0</td>\n",
       "      <td>United Kingdom</td>\n",
       "      <td>81.0</td>\n",
       "    </tr>\n",
       "    <tr>\n",
       "      <th>3</th>\n",
       "      <td>489434</td>\n",
       "      <td>22041</td>\n",
       "      <td>RECORD FRAME 7\" SINGLE SIZE</td>\n",
       "      <td>48</td>\n",
       "      <td>2009-12-01 07:45:00</td>\n",
       "      <td>2.10</td>\n",
       "      <td>13085.0</td>\n",
       "      <td>United Kingdom</td>\n",
       "      <td>100.8</td>\n",
       "    </tr>\n",
       "    <tr>\n",
       "      <th>4</th>\n",
       "      <td>489434</td>\n",
       "      <td>21232</td>\n",
       "      <td>STRAWBERRY CERAMIC TRINKET BOX</td>\n",
       "      <td>24</td>\n",
       "      <td>2009-12-01 07:45:00</td>\n",
       "      <td>1.25</td>\n",
       "      <td>13085.0</td>\n",
       "      <td>United Kingdom</td>\n",
       "      <td>30.0</td>\n",
       "    </tr>\n",
       "  </tbody>\n",
       "</table>\n",
       "</div>"
      ],
      "text/plain": [
       "  Invoice StockCode                          Description  Quantity  \\\n",
       "0  489434     85048  15CM CHRISTMAS GLASS BALL 20 LIGHTS        12   \n",
       "1  489434    79323P                   PINK CHERRY LIGHTS        12   \n",
       "2  489434    79323W                  WHITE CHERRY LIGHTS        12   \n",
       "3  489434     22041         RECORD FRAME 7\" SINGLE SIZE         48   \n",
       "4  489434     21232       STRAWBERRY CERAMIC TRINKET BOX        24   \n",
       "\n",
       "          InvoiceDate  Price  Customer ID         Country  Total_Price  \n",
       "0 2009-12-01 07:45:00   6.95      13085.0  United Kingdom         83.4  \n",
       "1 2009-12-01 07:45:00   6.75      13085.0  United Kingdom         81.0  \n",
       "2 2009-12-01 07:45:00   6.75      13085.0  United Kingdom         81.0  \n",
       "3 2009-12-01 07:45:00   2.10      13085.0  United Kingdom        100.8  \n",
       "4 2009-12-01 07:45:00   1.25      13085.0  United Kingdom         30.0  "
      ]
     },
     "execution_count": 7,
     "metadata": {},
     "output_type": "execute_result"
    }
   ],
   "source": [
    "df[\"Total_Price\"] = df[\"Quantity\"] * df[\"Price\"]\n",
    "df.head()"
   ]
  },
  {
   "cell_type": "code",
   "execution_count": 8,
   "id": "c54bb321",
   "metadata": {
    "execution": {
     "iopub.execute_input": "2022-08-04T16:50:05.220491Z",
     "iopub.status.busy": "2022-08-04T16:50:05.219770Z",
     "iopub.status.idle": "2022-08-04T16:50:05.716831Z",
     "shell.execute_reply": "2022-08-04T16:50:05.715375Z"
    },
    "papermill": {
     "duration": 0.509721,
     "end_time": "2022-08-04T16:50:05.720186",
     "exception": false,
     "start_time": "2022-08-04T16:50:05.210465",
     "status": "completed"
    },
    "tags": []
   },
   "outputs": [
    {
     "data": {
      "text/plain": [
       "(805620, 9)"
      ]
     },
     "execution_count": 8,
     "metadata": {},
     "output_type": "execute_result"
    }
   ],
   "source": [
    "df = df[~df[\"Invoice\"].str.contains(\"C\", na=False)]\n",
    "df.shape"
   ]
  },
  {
   "cell_type": "code",
   "execution_count": 9,
   "id": "581c6e08",
   "metadata": {
    "execution": {
     "iopub.execute_input": "2022-08-04T16:50:05.738591Z",
     "iopub.status.busy": "2022-08-04T16:50:05.737905Z",
     "iopub.status.idle": "2022-08-04T16:50:07.717063Z",
     "shell.execute_reply": "2022-08-04T16:50:07.715812Z"
    },
    "papermill": {
     "duration": 1.991664,
     "end_time": "2022-08-04T16:50:07.720186",
     "exception": false,
     "start_time": "2022-08-04T16:50:05.728522",
     "status": "completed"
    },
    "tags": []
   },
   "outputs": [],
   "source": [
    "today_date = max(df[\"InvoiceDate\"])"
   ]
  },
  {
   "cell_type": "code",
   "execution_count": 10,
   "id": "a52f235e",
   "metadata": {
    "execution": {
     "iopub.execute_input": "2022-08-04T16:50:07.737494Z",
     "iopub.status.busy": "2022-08-04T16:50:07.737066Z",
     "iopub.status.idle": "2022-08-04T16:50:09.365025Z",
     "shell.execute_reply": "2022-08-04T16:50:09.363660Z"
    },
    "papermill": {
     "duration": 1.640056,
     "end_time": "2022-08-04T16:50:09.367793",
     "exception": false,
     "start_time": "2022-08-04T16:50:07.727737",
     "status": "completed"
    },
    "tags": []
   },
   "outputs": [
    {
     "data": {
      "text/html": [
       "<div>\n",
       "<style scoped>\n",
       "    .dataframe tbody tr th:only-of-type {\n",
       "        vertical-align: middle;\n",
       "    }\n",
       "\n",
       "    .dataframe tbody tr th {\n",
       "        vertical-align: top;\n",
       "    }\n",
       "\n",
       "    .dataframe thead th {\n",
       "        text-align: right;\n",
       "    }\n",
       "</style>\n",
       "<table border=\"1\" class=\"dataframe\">\n",
       "  <thead>\n",
       "    <tr style=\"text-align: right;\">\n",
       "      <th></th>\n",
       "      <th>recency</th>\n",
       "      <th>frequency</th>\n",
       "      <th>monetary</th>\n",
       "    </tr>\n",
       "    <tr>\n",
       "      <th>Customer ID</th>\n",
       "      <th></th>\n",
       "      <th></th>\n",
       "      <th></th>\n",
       "    </tr>\n",
       "  </thead>\n",
       "  <tbody>\n",
       "    <tr>\n",
       "      <th>12346.0</th>\n",
       "      <td>325</td>\n",
       "      <td>12</td>\n",
       "      <td>77556.46</td>\n",
       "    </tr>\n",
       "    <tr>\n",
       "      <th>12347.0</th>\n",
       "      <td>1</td>\n",
       "      <td>8</td>\n",
       "      <td>5633.32</td>\n",
       "    </tr>\n",
       "    <tr>\n",
       "      <th>12348.0</th>\n",
       "      <td>74</td>\n",
       "      <td>5</td>\n",
       "      <td>2019.40</td>\n",
       "    </tr>\n",
       "    <tr>\n",
       "      <th>12349.0</th>\n",
       "      <td>18</td>\n",
       "      <td>4</td>\n",
       "      <td>4428.69</td>\n",
       "    </tr>\n",
       "    <tr>\n",
       "      <th>12350.0</th>\n",
       "      <td>309</td>\n",
       "      <td>1</td>\n",
       "      <td>334.40</td>\n",
       "    </tr>\n",
       "  </tbody>\n",
       "</table>\n",
       "</div>"
      ],
      "text/plain": [
       "             recency  frequency  monetary\n",
       "Customer ID                              \n",
       "12346.0          325         12  77556.46\n",
       "12347.0            1          8   5633.32\n",
       "12348.0           74          5   2019.40\n",
       "12349.0           18          4   4428.69\n",
       "12350.0          309          1    334.40"
      ]
     },
     "execution_count": 10,
     "metadata": {},
     "output_type": "execute_result"
    }
   ],
   "source": [
    "\n",
    "rfm = df.groupby('Customer ID').agg({'InvoiceDate': lambda InvoiceDate: (today_date - InvoiceDate.max()).days,\n",
    "                                     'Invoice': lambda Invoice: Invoice.nunique(),\n",
    "                                     'Total_Price': lambda Total_Price: Total_Price.sum()})\n",
    "rfm.columns = [\"recency\", \"frequency\", \"monetary\"]\n",
    "rfm.head()"
   ]
  },
  {
   "cell_type": "code",
   "execution_count": 11,
   "id": "d09cced0",
   "metadata": {
    "execution": {
     "iopub.execute_input": "2022-08-04T16:50:09.384927Z",
     "iopub.status.busy": "2022-08-04T16:50:09.384517Z",
     "iopub.status.idle": "2022-08-04T16:50:09.396269Z",
     "shell.execute_reply": "2022-08-04T16:50:09.395214Z"
    },
    "papermill": {
     "duration": 0.022773,
     "end_time": "2022-08-04T16:50:09.398389",
     "exception": false,
     "start_time": "2022-08-04T16:50:09.375616",
     "status": "completed"
    },
    "tags": []
   },
   "outputs": [
    {
     "data": {
      "text/html": [
       "<div>\n",
       "<style scoped>\n",
       "    .dataframe tbody tr th:only-of-type {\n",
       "        vertical-align: middle;\n",
       "    }\n",
       "\n",
       "    .dataframe tbody tr th {\n",
       "        vertical-align: top;\n",
       "    }\n",
       "\n",
       "    .dataframe thead th {\n",
       "        text-align: right;\n",
       "    }\n",
       "</style>\n",
       "<table border=\"1\" class=\"dataframe\">\n",
       "  <thead>\n",
       "    <tr style=\"text-align: right;\">\n",
       "      <th></th>\n",
       "      <th>recency</th>\n",
       "      <th>frequency</th>\n",
       "      <th>monetary</th>\n",
       "    </tr>\n",
       "  </thead>\n",
       "  <tbody>\n",
       "    <tr>\n",
       "      <th>12346.0</th>\n",
       "      <td>325</td>\n",
       "      <td>12</td>\n",
       "      <td>77556.46</td>\n",
       "    </tr>\n",
       "    <tr>\n",
       "      <th>12347.0</th>\n",
       "      <td>1</td>\n",
       "      <td>8</td>\n",
       "      <td>5633.32</td>\n",
       "    </tr>\n",
       "    <tr>\n",
       "      <th>12348.0</th>\n",
       "      <td>74</td>\n",
       "      <td>5</td>\n",
       "      <td>2019.40</td>\n",
       "    </tr>\n",
       "    <tr>\n",
       "      <th>12349.0</th>\n",
       "      <td>18</td>\n",
       "      <td>4</td>\n",
       "      <td>4428.69</td>\n",
       "    </tr>\n",
       "    <tr>\n",
       "      <th>12350.0</th>\n",
       "      <td>309</td>\n",
       "      <td>1</td>\n",
       "      <td>334.40</td>\n",
       "    </tr>\n",
       "  </tbody>\n",
       "</table>\n",
       "</div>"
      ],
      "text/plain": [
       "         recency  frequency  monetary\n",
       "12346.0      325         12  77556.46\n",
       "12347.0        1          8   5633.32\n",
       "12348.0       74          5   2019.40\n",
       "12349.0       18          4   4428.69\n",
       "12350.0      309          1    334.40"
      ]
     },
     "execution_count": 11,
     "metadata": {},
     "output_type": "execute_result"
    }
   ],
   "source": [
    "rfm.index.name = None\n",
    "rfm.head()"
   ]
  },
  {
   "cell_type": "code",
   "execution_count": 12,
   "id": "dca3f2bf",
   "metadata": {
    "execution": {
     "iopub.execute_input": "2022-08-04T16:50:09.416297Z",
     "iopub.status.busy": "2022-08-04T16:50:09.415698Z",
     "iopub.status.idle": "2022-08-04T16:50:09.444269Z",
     "shell.execute_reply": "2022-08-04T16:50:09.443094Z"
    },
    "papermill": {
     "duration": 0.040918,
     "end_time": "2022-08-04T16:50:09.447190",
     "exception": false,
     "start_time": "2022-08-04T16:50:09.406272",
     "status": "completed"
    },
    "tags": []
   },
   "outputs": [
    {
     "data": {
      "text/html": [
       "<div>\n",
       "<style scoped>\n",
       "    .dataframe tbody tr th:only-of-type {\n",
       "        vertical-align: middle;\n",
       "    }\n",
       "\n",
       "    .dataframe tbody tr th {\n",
       "        vertical-align: top;\n",
       "    }\n",
       "\n",
       "    .dataframe thead th {\n",
       "        text-align: right;\n",
       "    }\n",
       "</style>\n",
       "<table border=\"1\" class=\"dataframe\">\n",
       "  <thead>\n",
       "    <tr style=\"text-align: right;\">\n",
       "      <th></th>\n",
       "      <th>count</th>\n",
       "      <th>mean</th>\n",
       "      <th>std</th>\n",
       "      <th>min</th>\n",
       "      <th>25%</th>\n",
       "      <th>50%</th>\n",
       "      <th>75%</th>\n",
       "      <th>max</th>\n",
       "    </tr>\n",
       "  </thead>\n",
       "  <tbody>\n",
       "    <tr>\n",
       "      <th>recency</th>\n",
       "      <td>5881.0</td>\n",
       "      <td>200.457745</td>\n",
       "      <td>209.474135</td>\n",
       "      <td>0.0</td>\n",
       "      <td>25.0</td>\n",
       "      <td>95.00</td>\n",
       "      <td>379.00</td>\n",
       "      <td>738.00</td>\n",
       "    </tr>\n",
       "    <tr>\n",
       "      <th>frequency</th>\n",
       "      <td>5881.0</td>\n",
       "      <td>6.287196</td>\n",
       "      <td>13.012879</td>\n",
       "      <td>1.0</td>\n",
       "      <td>1.0</td>\n",
       "      <td>3.00</td>\n",
       "      <td>7.00</td>\n",
       "      <td>398.00</td>\n",
       "    </tr>\n",
       "    <tr>\n",
       "      <th>monetary</th>\n",
       "      <td>5881.0</td>\n",
       "      <td>3017.076888</td>\n",
       "      <td>14734.128619</td>\n",
       "      <td>0.0</td>\n",
       "      <td>347.8</td>\n",
       "      <td>897.62</td>\n",
       "      <td>2304.18</td>\n",
       "      <td>608821.65</td>\n",
       "    </tr>\n",
       "  </tbody>\n",
       "</table>\n",
       "</div>"
      ],
      "text/plain": [
       "            count         mean           std  min    25%     50%      75%  \\\n",
       "recency    5881.0   200.457745    209.474135  0.0   25.0   95.00   379.00   \n",
       "frequency  5881.0     6.287196     13.012879  1.0    1.0    3.00     7.00   \n",
       "monetary   5881.0  3017.076888  14734.128619  0.0  347.8  897.62  2304.18   \n",
       "\n",
       "                 max  \n",
       "recency       738.00  \n",
       "frequency     398.00  \n",
       "monetary   608821.65  "
      ]
     },
     "execution_count": 12,
     "metadata": {},
     "output_type": "execute_result"
    }
   ],
   "source": [
    "rfm.describe().T"
   ]
  },
  {
   "cell_type": "markdown",
   "id": "e077ea3e",
   "metadata": {
    "papermill": {
     "duration": 0.008844,
     "end_time": "2022-08-04T16:50:09.464402",
     "exception": false,
     "start_time": "2022-08-04T16:50:09.455558",
     "status": "completed"
    },
    "tags": []
   },
   "source": [
    "# K- Means"
   ]
  },
  {
   "cell_type": "code",
   "execution_count": 13,
   "id": "7bcad4c4",
   "metadata": {
    "execution": {
     "iopub.execute_input": "2022-08-04T16:50:09.483969Z",
     "iopub.status.busy": "2022-08-04T16:50:09.483209Z",
     "iopub.status.idle": "2022-08-04T16:50:09.499415Z",
     "shell.execute_reply": "2022-08-04T16:50:09.498638Z"
    },
    "papermill": {
     "duration": 0.02882,
     "end_time": "2022-08-04T16:50:09.501505",
     "exception": false,
     "start_time": "2022-08-04T16:50:09.472685",
     "status": "completed"
    },
    "tags": []
   },
   "outputs": [
    {
     "data": {
      "text/html": [
       "<div>\n",
       "<style scoped>\n",
       "    .dataframe tbody tr th:only-of-type {\n",
       "        vertical-align: middle;\n",
       "    }\n",
       "\n",
       "    .dataframe tbody tr th {\n",
       "        vertical-align: top;\n",
       "    }\n",
       "\n",
       "    .dataframe thead th {\n",
       "        text-align: right;\n",
       "    }\n",
       "</style>\n",
       "<table border=\"1\" class=\"dataframe\">\n",
       "  <thead>\n",
       "    <tr style=\"text-align: right;\">\n",
       "      <th></th>\n",
       "      <th>Recency</th>\n",
       "      <th>Frequency</th>\n",
       "      <th>Monetary</th>\n",
       "    </tr>\n",
       "  </thead>\n",
       "  <tbody>\n",
       "    <tr>\n",
       "      <th>12346.0</th>\n",
       "      <td>0.594598</td>\n",
       "      <td>0.439049</td>\n",
       "      <td>5.059391</td>\n",
       "    </tr>\n",
       "    <tr>\n",
       "      <th>12347.0</th>\n",
       "      <td>-0.952264</td>\n",
       "      <td>0.131635</td>\n",
       "      <td>0.177579</td>\n",
       "    </tr>\n",
       "    <tr>\n",
       "      <th>12348.0</th>\n",
       "      <td>-0.603743</td>\n",
       "      <td>-0.098925</td>\n",
       "      <td>-0.067718</td>\n",
       "    </tr>\n",
       "    <tr>\n",
       "      <th>12349.0</th>\n",
       "      <td>-0.871102</td>\n",
       "      <td>-0.175779</td>\n",
       "      <td>0.095814</td>\n",
       "    </tr>\n",
       "    <tr>\n",
       "      <th>12350.0</th>\n",
       "      <td>0.518209</td>\n",
       "      <td>-0.406339</td>\n",
       "      <td>-0.182088</td>\n",
       "    </tr>\n",
       "  </tbody>\n",
       "</table>\n",
       "</div>"
      ],
      "text/plain": [
       "          Recency  Frequency  Monetary\n",
       "12346.0  0.594598   0.439049  5.059391\n",
       "12347.0 -0.952264   0.131635  0.177579\n",
       "12348.0 -0.603743  -0.098925 -0.067718\n",
       "12349.0 -0.871102  -0.175779  0.095814\n",
       "12350.0  0.518209  -0.406339 -0.182088"
      ]
     },
     "execution_count": 13,
     "metadata": {},
     "output_type": "execute_result"
    }
   ],
   "source": [
    "scaler = StandardScaler().fit(rfm)\n",
    "rfm_new = scaler.transform(rfm)\n",
    "rfm_new = pd.DataFrame(rfm_new, columns = [\"Recency\", \"Frequency\", \"Monetary\"], index = rfm.index)\n",
    "rfm_new.head()"
   ]
  },
  {
   "cell_type": "code",
   "execution_count": 14,
   "id": "e0ac5b85",
   "metadata": {
    "execution": {
     "iopub.execute_input": "2022-08-04T16:50:09.519817Z",
     "iopub.status.busy": "2022-08-04T16:50:09.519180Z",
     "iopub.status.idle": "2022-08-04T16:50:12.851544Z",
     "shell.execute_reply": "2022-08-04T16:50:12.850506Z"
    },
    "papermill": {
     "duration": 3.344921,
     "end_time": "2022-08-04T16:50:12.854550",
     "exception": false,
     "start_time": "2022-08-04T16:50:09.509629",
     "status": "completed"
    },
    "tags": []
   },
   "outputs": [],
   "source": [
    "kmeans = KMeans(n_clusters = 4, n_init=25, max_iter=300)\n",
    "k_means = kmeans.fit(rfm_new)"
   ]
  },
  {
   "cell_type": "code",
   "execution_count": 15,
   "id": "0578a61f",
   "metadata": {
    "execution": {
     "iopub.execute_input": "2022-08-04T16:50:12.875172Z",
     "iopub.status.busy": "2022-08-04T16:50:12.874397Z",
     "iopub.status.idle": "2022-08-04T16:50:12.883074Z",
     "shell.execute_reply": "2022-08-04T16:50:12.881953Z"
    },
    "papermill": {
     "duration": 0.020981,
     "end_time": "2022-08-04T16:50:12.885363",
     "exception": false,
     "start_time": "2022-08-04T16:50:12.864382",
     "status": "completed"
    },
    "tags": []
   },
   "outputs": [
    {
     "data": {
      "text/plain": [
       "KMeans(n_clusters=4, n_init=25)"
      ]
     },
     "execution_count": 15,
     "metadata": {},
     "output_type": "execute_result"
    }
   ],
   "source": [
    "k_means"
   ]
  },
  {
   "cell_type": "code",
   "execution_count": 16,
   "id": "cade06b5",
   "metadata": {
    "execution": {
     "iopub.execute_input": "2022-08-04T16:50:12.903555Z",
     "iopub.status.busy": "2022-08-04T16:50:12.903130Z",
     "iopub.status.idle": "2022-08-04T16:50:12.910338Z",
     "shell.execute_reply": "2022-08-04T16:50:12.909101Z"
    },
    "papermill": {
     "duration": 0.019383,
     "end_time": "2022-08-04T16:50:12.913054",
     "exception": false,
     "start_time": "2022-08-04T16:50:12.893671",
     "status": "completed"
    },
    "tags": []
   },
   "outputs": [
    {
     "data": {
      "text/plain": [
       "array([0, 0, 0, ..., 1, 1, 0], dtype=int32)"
      ]
     },
     "execution_count": 16,
     "metadata": {},
     "output_type": "execute_result"
    }
   ],
   "source": [
    "k_means.labels_"
   ]
  },
  {
   "cell_type": "code",
   "execution_count": 17,
   "id": "e9c698e1",
   "metadata": {
    "execution": {
     "iopub.execute_input": "2022-08-04T16:50:12.933227Z",
     "iopub.status.busy": "2022-08-04T16:50:12.932047Z",
     "iopub.status.idle": "2022-08-04T16:50:12.936904Z",
     "shell.execute_reply": "2022-08-04T16:50:12.936000Z"
    },
    "papermill": {
     "duration": 0.017367,
     "end_time": "2022-08-04T16:50:12.939359",
     "exception": false,
     "start_time": "2022-08-04T16:50:12.921992",
     "status": "completed"
    },
    "tags": []
   },
   "outputs": [],
   "source": [
    "segment = k_means.labels_"
   ]
  },
  {
   "cell_type": "code",
   "execution_count": 18,
   "id": "7c8f8a75",
   "metadata": {
    "execution": {
     "iopub.execute_input": "2022-08-04T16:50:12.959458Z",
     "iopub.status.busy": "2022-08-04T16:50:12.958705Z",
     "iopub.status.idle": "2022-08-04T16:50:12.972980Z",
     "shell.execute_reply": "2022-08-04T16:50:12.971696Z"
    },
    "papermill": {
     "duration": 0.027553,
     "end_time": "2022-08-04T16:50:12.975703",
     "exception": false,
     "start_time": "2022-08-04T16:50:12.948150",
     "status": "completed"
    },
    "tags": []
   },
   "outputs": [
    {
     "data": {
      "text/html": [
       "<div>\n",
       "<style scoped>\n",
       "    .dataframe tbody tr th:only-of-type {\n",
       "        vertical-align: middle;\n",
       "    }\n",
       "\n",
       "    .dataframe tbody tr th {\n",
       "        vertical-align: top;\n",
       "    }\n",
       "\n",
       "    .dataframe thead th {\n",
       "        text-align: right;\n",
       "    }\n",
       "</style>\n",
       "<table border=\"1\" class=\"dataframe\">\n",
       "  <thead>\n",
       "    <tr style=\"text-align: right;\">\n",
       "      <th></th>\n",
       "      <th>recency</th>\n",
       "      <th>frequency</th>\n",
       "      <th>monetary</th>\n",
       "      <th>segment</th>\n",
       "    </tr>\n",
       "  </thead>\n",
       "  <tbody>\n",
       "    <tr>\n",
       "      <th>12346.0</th>\n",
       "      <td>325</td>\n",
       "      <td>12</td>\n",
       "      <td>77556.46</td>\n",
       "      <td>1</td>\n",
       "    </tr>\n",
       "    <tr>\n",
       "      <th>12347.0</th>\n",
       "      <td>1</td>\n",
       "      <td>8</td>\n",
       "      <td>5633.32</td>\n",
       "      <td>1</td>\n",
       "    </tr>\n",
       "    <tr>\n",
       "      <th>12348.0</th>\n",
       "      <td>74</td>\n",
       "      <td>5</td>\n",
       "      <td>2019.40</td>\n",
       "      <td>1</td>\n",
       "    </tr>\n",
       "    <tr>\n",
       "      <th>12349.0</th>\n",
       "      <td>18</td>\n",
       "      <td>4</td>\n",
       "      <td>4428.69</td>\n",
       "      <td>1</td>\n",
       "    </tr>\n",
       "    <tr>\n",
       "      <th>12350.0</th>\n",
       "      <td>309</td>\n",
       "      <td>1</td>\n",
       "      <td>334.40</td>\n",
       "      <td>2</td>\n",
       "    </tr>\n",
       "  </tbody>\n",
       "</table>\n",
       "</div>"
      ],
      "text/plain": [
       "         recency  frequency  monetary  segment\n",
       "12346.0      325         12  77556.46        1\n",
       "12347.0        1          8   5633.32        1\n",
       "12348.0       74          5   2019.40        1\n",
       "12349.0       18          4   4428.69        1\n",
       "12350.0      309          1    334.40        2"
      ]
     },
     "execution_count": 18,
     "metadata": {},
     "output_type": "execute_result"
    }
   ],
   "source": [
    "rfm[\"segment\"] = segment + 1\n",
    "rfm.head()"
   ]
  },
  {
   "cell_type": "code",
   "execution_count": 19,
   "id": "e127cff4",
   "metadata": {
    "execution": {
     "iopub.execute_input": "2022-08-04T16:50:12.996324Z",
     "iopub.status.busy": "2022-08-04T16:50:12.995911Z",
     "iopub.status.idle": "2022-08-04T16:50:13.005672Z",
     "shell.execute_reply": "2022-08-04T16:50:13.004575Z"
    },
    "papermill": {
     "duration": 0.023495,
     "end_time": "2022-08-04T16:50:13.008463",
     "exception": false,
     "start_time": "2022-08-04T16:50:12.984968",
     "status": "completed"
    },
    "tags": []
   },
   "outputs": [
    {
     "data": {
      "text/plain": [
       "1    3842\n",
       "2    2000\n",
       "4      35\n",
       "3       4\n",
       "Name: segment, dtype: int64"
      ]
     },
     "execution_count": 19,
     "metadata": {},
     "output_type": "execute_result"
    }
   ],
   "source": [
    "rfm[\"segment\"].value_counts()"
   ]
  },
  {
   "cell_type": "code",
   "execution_count": 20,
   "id": "58d18b19",
   "metadata": {
    "execution": {
     "iopub.execute_input": "2022-08-04T16:50:13.028253Z",
     "iopub.status.busy": "2022-08-04T16:50:13.027840Z",
     "iopub.status.idle": "2022-08-04T16:50:13.038796Z",
     "shell.execute_reply": "2022-08-04T16:50:13.037703Z"
    },
    "papermill": {
     "duration": 0.023651,
     "end_time": "2022-08-04T16:50:13.040929",
     "exception": false,
     "start_time": "2022-08-04T16:50:13.017278",
     "status": "completed"
    },
    "tags": []
   },
   "outputs": [
    {
     "data": {
      "text/plain": [
       "segment\n",
       "1      3008.619160\n",
       "2       764.479201\n",
       "3    436835.792500\n",
       "4     83086.079771\n",
       "Name: monetary, dtype: float64"
      ]
     },
     "execution_count": 20,
     "metadata": {},
     "output_type": "execute_result"
    }
   ],
   "source": [
    "rfm.groupby(\"segment\")[\"monetary\"].mean()"
   ]
  },
  {
   "cell_type": "code",
   "execution_count": 21,
   "id": "2d107e51",
   "metadata": {
    "_kg_hide-input": true,
    "collapsed": true,
    "execution": {
     "iopub.execute_input": "2022-08-04T16:50:13.060653Z",
     "iopub.status.busy": "2022-08-04T16:50:13.059866Z",
     "iopub.status.idle": "2022-08-04T16:50:32.241634Z",
     "shell.execute_reply": "2022-08-04T16:50:32.240187Z"
    },
    "jupyter": {
     "outputs_hidden": true
    },
    "papermill": {
     "duration": 19.195214,
     "end_time": "2022-08-04T16:50:32.244910",
     "exception": false,
     "start_time": "2022-08-04T16:50:13.049696",
     "status": "completed"
    },
    "tags": []
   },
   "outputs": [
    {
     "name": "stdout",
     "output_type": "stream",
     "text": [
      "Collecting pingouin\r\n",
      "  Downloading pingouin-0.5.2.tar.gz (185 kB)\r\n",
      "\u001b[2K     \u001b[90m━━━━━━━━━━━━━━━━━━━━━━━━━━━━━━━━━━━━━━━\u001b[0m \u001b[32m185.4/185.4 kB\u001b[0m \u001b[31m1.1 MB/s\u001b[0m eta \u001b[36m0:00:00\u001b[0m\r\n",
      "\u001b[?25h  Preparing metadata (setup.py) ... \u001b[?25l-\b \bdone\r\n",
      "\u001b[?25hRequirement already satisfied: numpy>=1.19 in /opt/conda/lib/python3.7/site-packages (from pingouin) (1.21.6)\r\n",
      "Requirement already satisfied: scipy>=1.7 in /opt/conda/lib/python3.7/site-packages (from pingouin) (1.7.3)\r\n",
      "Requirement already satisfied: pandas>=1.0 in /opt/conda/lib/python3.7/site-packages (from pingouin) (1.3.5)\r\n",
      "Requirement already satisfied: matplotlib>=3.0.2 in /opt/conda/lib/python3.7/site-packages (from pingouin) (3.5.2)\r\n",
      "Requirement already satisfied: seaborn>=0.11 in /opt/conda/lib/python3.7/site-packages (from pingouin) (0.11.2)\r\n",
      "Requirement already satisfied: statsmodels>=0.13 in /opt/conda/lib/python3.7/site-packages (from pingouin) (0.13.2)\r\n",
      "Requirement already satisfied: scikit-learn<1.1.0 in /opt/conda/lib/python3.7/site-packages (from pingouin) (1.0.2)\r\n",
      "Collecting pandas_flavor>=0.2.0\r\n",
      "  Downloading pandas_flavor-0.3.0-py3-none-any.whl (6.3 kB)\r\n",
      "Collecting outdated\r\n",
      "  Downloading outdated-0.2.1-py3-none-any.whl (7.5 kB)\r\n",
      "Requirement already satisfied: tabulate in /opt/conda/lib/python3.7/site-packages (from pingouin) (0.8.10)\r\n",
      "Requirement already satisfied: packaging>=20.0 in /opt/conda/lib/python3.7/site-packages (from matplotlib>=3.0.2->pingouin) (21.3)\r\n",
      "Requirement already satisfied: kiwisolver>=1.0.1 in /opt/conda/lib/python3.7/site-packages (from matplotlib>=3.0.2->pingouin) (1.4.3)\r\n",
      "Requirement already satisfied: python-dateutil>=2.7 in /opt/conda/lib/python3.7/site-packages (from matplotlib>=3.0.2->pingouin) (2.8.2)\r\n",
      "Requirement already satisfied: cycler>=0.10 in /opt/conda/lib/python3.7/site-packages (from matplotlib>=3.0.2->pingouin) (0.11.0)\r\n",
      "Requirement already satisfied: fonttools>=4.22.0 in /opt/conda/lib/python3.7/site-packages (from matplotlib>=3.0.2->pingouin) (4.33.3)\r\n",
      "Requirement already satisfied: pyparsing>=2.2.1 in /opt/conda/lib/python3.7/site-packages (from matplotlib>=3.0.2->pingouin) (3.0.9)\r\n",
      "Requirement already satisfied: pillow>=6.2.0 in /opt/conda/lib/python3.7/site-packages (from matplotlib>=3.0.2->pingouin) (9.1.1)\r\n",
      "Requirement already satisfied: pytz>=2017.3 in /opt/conda/lib/python3.7/site-packages (from pandas>=1.0->pingouin) (2022.1)\r\n",
      "Collecting pandas_flavor>=0.2.0\r\n",
      "  Downloading pandas_flavor-0.2.0-py2.py3-none-any.whl (6.6 kB)\r\n",
      "Requirement already satisfied: xarray in /opt/conda/lib/python3.7/site-packages (from pandas_flavor>=0.2.0->pingouin) (0.20.2)\r\n",
      "Requirement already satisfied: joblib>=0.11 in /opt/conda/lib/python3.7/site-packages (from scikit-learn<1.1.0->pingouin) (1.0.1)\r\n",
      "Requirement already satisfied: threadpoolctl>=2.0.0 in /opt/conda/lib/python3.7/site-packages (from scikit-learn<1.1.0->pingouin) (3.1.0)\r\n",
      "Requirement already satisfied: patsy>=0.5.2 in /opt/conda/lib/python3.7/site-packages (from statsmodels>=0.13->pingouin) (0.5.2)\r\n",
      "Collecting littleutils\r\n",
      "  Downloading littleutils-0.2.2.tar.gz (6.6 kB)\r\n",
      "  Preparing metadata (setup.py) ... \u001b[?25l-\b \bdone\r\n",
      "\u001b[?25hRequirement already satisfied: requests in /opt/conda/lib/python3.7/site-packages (from outdated->pingouin) (2.28.1)\r\n",
      "Requirement already satisfied: typing-extensions in /opt/conda/lib/python3.7/site-packages (from kiwisolver>=1.0.1->matplotlib>=3.0.2->pingouin) (4.1.1)\r\n",
      "Requirement already satisfied: six in /opt/conda/lib/python3.7/site-packages (from patsy>=0.5.2->statsmodels>=0.13->pingouin) (1.16.0)\r\n",
      "Requirement already satisfied: urllib3<1.27,>=1.21.1 in /opt/conda/lib/python3.7/site-packages (from requests->outdated->pingouin) (1.26.9)\r\n",
      "Requirement already satisfied: charset-normalizer<3,>=2 in /opt/conda/lib/python3.7/site-packages (from requests->outdated->pingouin) (2.1.0)\r\n",
      "Requirement already satisfied: certifi>=2017.4.17 in /opt/conda/lib/python3.7/site-packages (from requests->outdated->pingouin) (2022.6.15)\r\n",
      "Requirement already satisfied: idna<4,>=2.5 in /opt/conda/lib/python3.7/site-packages (from requests->outdated->pingouin) (3.3)\r\n",
      "Requirement already satisfied: importlib-metadata in /opt/conda/lib/python3.7/site-packages (from xarray->pandas_flavor>=0.2.0->pingouin) (4.12.0)\r\n",
      "Requirement already satisfied: zipp>=0.5 in /opt/conda/lib/python3.7/site-packages (from importlib-metadata->xarray->pandas_flavor>=0.2.0->pingouin) (3.8.0)\r\n",
      "Building wheels for collected packages: pingouin, littleutils\r\n",
      "  Building wheel for pingouin (setup.py) ... \u001b[?25l-\b \b\\\b \b|\b \bdone\r\n",
      "\u001b[?25h  Created wheel for pingouin: filename=pingouin-0.5.2-py3-none-any.whl size=196206 sha256=4dd3ecdfbb0f147f2d60dbf20c3bd72b816419bbac80be24fe8bc6b16259adb0\r\n",
      "  Stored in directory: /root/.cache/pip/wheels/11/5a/63/a6d32fc26fa462c731f65480bfb98ff7bd39b8ebcb4bc6c2fe\r\n",
      "  Building wheel for littleutils (setup.py) ... \u001b[?25l-\b \b\\\b \bdone\r\n",
      "\u001b[?25h  Created wheel for littleutils: filename=littleutils-0.2.2-py3-none-any.whl size=7048 sha256=094e20ea573c9e6bd3aab7a7c9fe38153d44cc6c45f64275e0a583a30964657c\r\n",
      "  Stored in directory: /root/.cache/pip/wheels/d6/64/cd/32819b511a488e4993f2fab909a95330289c3f4e0f6ef4676d\r\n",
      "Successfully built pingouin littleutils\r\n",
      "Installing collected packages: littleutils, outdated, pandas_flavor, pingouin\r\n",
      "Successfully installed littleutils-0.2.2 outdated-0.2.1 pandas_flavor-0.2.0 pingouin-0.5.2\r\n",
      "\u001b[33mWARNING: Running pip as the 'root' user can result in broken permissions and conflicting behaviour with the system package manager. It is recommended to use a virtual environment instead: https://pip.pypa.io/warnings/venv\u001b[0m\u001b[33m\r\n",
      "\u001b[0m"
     ]
    }
   ],
   "source": [
    "!pip install pingouin"
   ]
  },
  {
   "cell_type": "markdown",
   "id": "724b3c6d",
   "metadata": {
    "papermill": {
     "duration": 0.010775,
     "end_time": "2022-08-04T16:50:32.267020",
     "exception": false,
     "start_time": "2022-08-04T16:50:32.256245",
     "status": "completed"
    },
    "tags": []
   },
   "source": [
    "# MANOVA"
   ]
  },
  {
   "cell_type": "code",
   "execution_count": 22,
   "id": "9945e100",
   "metadata": {
    "execution": {
     "iopub.execute_input": "2022-08-04T16:50:32.292708Z",
     "iopub.status.busy": "2022-08-04T16:50:32.292254Z",
     "iopub.status.idle": "2022-08-04T16:50:33.557922Z",
     "shell.execute_reply": "2022-08-04T16:50:33.555460Z"
    },
    "papermill": {
     "duration": 1.282716,
     "end_time": "2022-08-04T16:50:33.561183",
     "exception": false,
     "start_time": "2022-08-04T16:50:32.278467",
     "status": "completed"
    },
    "tags": []
   },
   "outputs": [
    {
     "name": "stdout",
     "output_type": "stream",
     "text": [
      "                 W           pval  equal_var\n",
      "levene  441.280947  1.452788e-258      False\n",
      "                 W  pval  equal_var\n",
      "levene  991.928728   0.0      False\n",
      "                  W  pval  equal_var\n",
      "levene  2372.233836   0.0      False\n"
     ]
    }
   ],
   "source": [
    "import pingouin as pg\n",
    "\n",
    "print(pg.homoscedasticity(rfm, dv = 'recency', group = 'segment', center = 'mean'))\n",
    "print(pg.homoscedasticity(rfm, dv = 'frequency', group = 'segment', center = 'mean'))\n",
    "print(pg.homoscedasticity(rfm, dv = 'monetary', group = 'segment', center = 'mean'))"
   ]
  },
  {
   "cell_type": "code",
   "execution_count": 23,
   "id": "b74967b5",
   "metadata": {
    "execution": {
     "iopub.execute_input": "2022-08-04T16:50:33.586597Z",
     "iopub.status.busy": "2022-08-04T16:50:33.586133Z",
     "iopub.status.idle": "2022-08-04T16:50:33.689713Z",
     "shell.execute_reply": "2022-08-04T16:50:33.688139Z"
    },
    "papermill": {
     "duration": 0.119972,
     "end_time": "2022-08-04T16:50:33.693107",
     "exception": false,
     "start_time": "2022-08-04T16:50:33.573135",
     "status": "completed"
    },
    "tags": []
   },
   "outputs": [],
   "source": [
    "from statsmodels.multivariate.manova import MANOVA"
   ]
  },
  {
   "cell_type": "code",
   "execution_count": 24,
   "id": "4ca6bf32",
   "metadata": {
    "execution": {
     "iopub.execute_input": "2022-08-04T16:50:33.719480Z",
     "iopub.status.busy": "2022-08-04T16:50:33.718306Z",
     "iopub.status.idle": "2022-08-04T16:50:33.850280Z",
     "shell.execute_reply": "2022-08-04T16:50:33.848664Z"
    },
    "papermill": {
     "duration": 0.15236,
     "end_time": "2022-08-04T16:50:33.857315",
     "exception": false,
     "start_time": "2022-08-04T16:50:33.704955",
     "status": "completed"
    },
    "tags": []
   },
   "outputs": [
    {
     "name": "stdout",
     "output_type": "stream",
     "text": [
      "                   Multivariate linear model\n",
      "================================================================\n",
      "                                                                \n",
      "----------------------------------------------------------------\n",
      "       Intercept        Value  Num DF   Den DF   F Value  Pr > F\n",
      "----------------------------------------------------------------\n",
      "          Wilks' lambda 0.6255 3.0000 5877.0000 1173.1340 0.0000\n",
      "         Pillai's trace 0.3745 3.0000 5877.0000 1173.1340 0.0000\n",
      " Hotelling-Lawley trace 0.5988 3.0000 5877.0000 1173.1340 0.0000\n",
      "    Roy's greatest root 0.5988 3.0000 5877.0000 1173.1340 0.0000\n",
      "----------------------------------------------------------------\n",
      "                                                                \n",
      "----------------------------------------------------------------\n",
      "        segment         Value  Num DF   Den DF   F Value  Pr > F\n",
      "----------------------------------------------------------------\n",
      "          Wilks' lambda 0.2711 3.0000 5877.0000 5265.9311 0.0000\n",
      "         Pillai's trace 0.7289 3.0000 5877.0000 5265.9311 0.0000\n",
      " Hotelling-Lawley trace 2.6881 3.0000 5877.0000 5265.9311 0.0000\n",
      "    Roy's greatest root 2.6881 3.0000 5877.0000 5265.9311 0.0000\n",
      "================================================================\n",
      "\n"
     ]
    }
   ],
   "source": [
    "model = MANOVA.from_formula(\"recency + frequency + monetary ~ segment\", data = rfm)\n",
    "print(model.mv_test())"
   ]
  }
 ],
 "metadata": {
  "kernelspec": {
   "display_name": "Python 3",
   "language": "python",
   "name": "python3"
  },
  "language_info": {
   "codemirror_mode": {
    "name": "ipython",
    "version": 3
   },
   "file_extension": ".py",
   "mimetype": "text/x-python",
   "name": "python",
   "nbconvert_exporter": "python",
   "pygments_lexer": "ipython3",
   "version": "3.7.12"
  },
  "papermill": {
   "default_parameters": {},
   "duration": 46.662758,
   "end_time": "2022-08-04T16:50:34.919244",
   "environment_variables": {},
   "exception": null,
   "input_path": "__notebook__.ipynb",
   "output_path": "__notebook__.ipynb",
   "parameters": {},
   "start_time": "2022-08-04T16:49:48.256486",
   "version": "2.3.4"
  }
 },
 "nbformat": 4,
 "nbformat_minor": 5
}
